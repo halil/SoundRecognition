{
 "cells": [
  {
   "cell_type": "code",
   "execution_count": 138,
   "metadata": {},
   "outputs": [],
   "source": [
    "import csv\n",
    "import pandas as pd\n",
    "import os\n",
    "import subprocess\n",
    "import sys\n",
    "import datetime"
   ]
  },
  {
   "cell_type": "code",
   "execution_count": 298,
   "metadata": {},
   "outputs": [
    {
     "data": {
      "text/html": [
       "<div>\n",
       "<style scoped>\n",
       "    .dataframe tbody tr th:only-of-type {\n",
       "        vertical-align: middle;\n",
       "    }\n",
       "\n",
       "    .dataframe tbody tr th {\n",
       "        vertical-align: top;\n",
       "    }\n",
       "\n",
       "    .dataframe thead th {\n",
       "        text-align: right;\n",
       "    }\n",
       "</style>\n",
       "<table border=\"1\" class=\"dataframe\">\n",
       "  <thead>\n",
       "    <tr style=\"text-align: right;\">\n",
       "      <th></th>\n",
       "      <th>id</th>\n",
       "      <th>youtubeId</th>\n",
       "      <th>sex</th>\n",
       "      <th>club</th>\n",
       "      <th>impactFrame</th>\n",
       "    </tr>\n",
       "  </thead>\n",
       "  <tbody>\n",
       "    <tr>\n",
       "      <th>0</th>\n",
       "      <td>0</td>\n",
       "      <td>f1BWA5F87Jc</td>\n",
       "      <td>f</td>\n",
       "      <td>driver</td>\n",
       "      <td>498</td>\n",
       "    </tr>\n",
       "    <tr>\n",
       "      <th>2</th>\n",
       "      <td>2</td>\n",
       "      <td>tA1iotgtMyc</td>\n",
       "      <td>m</td>\n",
       "      <td>driver</td>\n",
       "      <td>698</td>\n",
       "    </tr>\n",
       "    <tr>\n",
       "      <th>4</th>\n",
       "      <td>4</td>\n",
       "      <td>wDCKLePrwHA</td>\n",
       "      <td>f</td>\n",
       "      <td>driver</td>\n",
       "      <td>205</td>\n",
       "    </tr>\n",
       "    <tr>\n",
       "      <th>6</th>\n",
       "      <td>6</td>\n",
       "      <td>iPuVhnI8pJU</td>\n",
       "      <td>m</td>\n",
       "      <td>driver</td>\n",
       "      <td>332</td>\n",
       "    </tr>\n",
       "    <tr>\n",
       "      <th>8</th>\n",
       "      <td>8</td>\n",
       "      <td>-M5SITXMA2Y</td>\n",
       "      <td>f</td>\n",
       "      <td>driver</td>\n",
       "      <td>355</td>\n",
       "    </tr>\n",
       "  </tbody>\n",
       "</table>\n",
       "</div>"
      ],
      "text/plain": [
       "   id    youtubeId sex    club  impactFrame\n",
       "0   0  f1BWA5F87Jc   f  driver          498\n",
       "2   2  tA1iotgtMyc   m  driver          698\n",
       "4   4  wDCKLePrwHA   f  driver          205\n",
       "6   6  iPuVhnI8pJU   m  driver          332\n",
       "8   8  -M5SITXMA2Y   f  driver          355"
      ]
     },
     "execution_count": 298,
     "metadata": {},
     "output_type": "execute_result"
    }
   ],
   "source": [
    "data = pd.read_csv(\"golf-swing-dataset/data/golfDB.csv\", sep=\",\", usecols=[\"id\", \"youtube_id\", \"sex\", \"club\", \"slow\", \"kf7\"])\n",
    "data = data.rename(columns={\"kf7\" : \"impactFrame\", \"youtube_id\" : \"youtubeId\"})\n",
    "data.slow = data.slow.apply(lambda x: True if x == 1 else x).apply(lambda x: False if x == 0 else x)\n",
    "data = data[data[\"slow\"] == False].drop(\"slow\", axis=1)\n",
    "data.head()"
   ]
  },
  {
   "cell_type": "code",
   "execution_count": 301,
   "metadata": {},
   "outputs": [],
   "source": [
    "basePath = \"/Users/metinozturk/Downloads/AI/golf-swing-dataset/videos/\"\n",
    "impactPreDuration = 2\n",
    "impactPostDuration = 2"
   ]
  },
  {
   "cell_type": "code",
   "execution_count": 304,
   "metadata": {},
   "outputs": [],
   "source": [
    "_ = [extractAudioFromVideo(x) for x in data[\"id\"]]"
   ]
  },
  {
   "cell_type": "code",
   "execution_count": 300,
   "metadata": {},
   "outputs": [],
   "source": [
    "def extractAudioFromVideo(videoIdx):\n",
    "    fileName = f\"{basePath}{data.loc[videoIdx].id + 1}-{data.loc[videoIdx].youtubeId}.mp4\"\n",
    "    frameRate = getFrameRate(fileName)\n",
    "    videoDuration = getVideoDuration(fileName)\n",
    "    \n",
    "    if videoDuration == -1 or frameRate == -1:\n",
    "        return\n",
    "\n",
    "    impactTime = round(data.loc[videoIdx].impactFrame / frameRate, 2)\n",
    "\n",
    "    startTime = round(0 if impactTime < impactPreDuration else impactTime - impactPreDuration, 2)\n",
    "    endTime = round(videoDuration - impactTime if impactTime + impactPostDuration > videoDuration else impactTime + impactPostDuration, 2)\n",
    "\n",
    "    startTime = datetime.timedelta(seconds=startTime)\n",
    "    endTime = datetime.timedelta(seconds=endTime)\n",
    "\n",
    "\n",
    "    command = (f\"ffmpeg -y -i {fileName} \"\n",
    "           f\"-ss {startTime} -to {endTime} {fileName.replace('golf-swing-dataset/videos', 'audios').replace('.mp4', '.wav')}\"\n",
    "          )\n",
    "\n",
    "    subprocess.call(command, shell=True)"
   ]
  },
  {
   "cell_type": "code",
   "execution_count": 202,
   "metadata": {},
   "outputs": [],
   "source": [
    "def getFrameRate(filename):\n",
    "    if not os.path.exists(filename):\n",
    "        return -1         \n",
    "    out = subprocess.check_output([\"ffprobe\",filename,\"-v\",\"0\",\"-select_streams\",\"v\",\"-print_format\",\"flat\",\"-show_entries\",\"stream=r_frame_rate\"])\n",
    "    rate = out.decode().split('=')[1].strip()[1:-1].split('/')\n",
    "    if len(rate)==1:\n",
    "        return float(rate[0])\n",
    "    if len(rate)==2:\n",
    "        return float(rate[0])/float(rate[1])\n",
    "    return -1"
   ]
  },
  {
   "cell_type": "code",
   "execution_count": 203,
   "metadata": {},
   "outputs": [],
   "source": [
    "def getVideoDuration(filename):\n",
    "    if not os.path.exists(filename):\n",
    "        return -1         \n",
    "    out = subprocess.check_output([\"ffprobe\",\"-v\",\"error\",\"-show_entries\",\"format=duration\",\"-of\",\"default=noprint_wrappers=1:nokey=1\", filename])\n",
    "    rate = out.decode().strip()\n",
    "    return float(rate)"
   ]
  }
 ],
 "metadata": {
  "kernelspec": {
   "display_name": "Python 3",
   "language": "python",
   "name": "python3"
  },
  "language_info": {
   "codemirror_mode": {
    "name": "ipython",
    "version": 3
   },
   "file_extension": ".py",
   "mimetype": "text/x-python",
   "name": "python",
   "nbconvert_exporter": "python",
   "pygments_lexer": "ipython3",
   "version": "3.8.3"
  }
 },
 "nbformat": 4,
 "nbformat_minor": 4
}
